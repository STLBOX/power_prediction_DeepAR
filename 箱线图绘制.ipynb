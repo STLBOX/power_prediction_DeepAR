{
 "cells": [
  {
   "cell_type": "markdown",
   "id": "1c12e31b",
   "metadata": {},
   "source": [
    "### 导入数据"
   ]
  },
  {
   "cell_type": "code",
   "execution_count": 20,
   "id": "96397df5",
   "metadata": {},
   "outputs": [],
   "source": [
    "import pandas as pd\n",
    "import numpy as np\n",
    "import torch\n",
    "from torch import nn\n",
    "\n",
    "mae_lstm = []\n",
    "mae_re_lstm = []\n",
    "mae_ss_lstm = []\n",
    "for seed in range(100):\n",
    "    try:\n",
    "        mae_lstm.append(torch.load(f\"loss/mae_deepar_seed{seed}.pt\"))\n",
    "        mae_re_lstm.append(torch.load(f\"loss/mae_deepar_re_seed{seed}.pt\"))\n",
    "        mae_ss_lstm.append(torch.load(f\"loss/mae_deepar_ss_seed{seed}.pt\"))\n",
    "    except:\n",
    "        pass\n",
    "decoder_len = 24\n",
    "mae_lstm = torch.cat(mae_lstm).reshape(-1, decoder_len)\n",
    "mae_re_lstm = torch.cat(mae_re_lstm).reshape(-1, decoder_len)\n",
    "mae_ss_lstm = torch.cat(mae_ss_lstm).reshape(-1, decoder_len)\n",
    "\n",
    "mae_lstm_mean = mae_lstm.mean(-1)\n",
    "mae_re_lstm_mean = mae_re_lstm.mean(-1)\n",
    "mae_ss_lstm_mean = mae_ss_lstm.mean(-1)\n",
    "\n",
    "index = [0,7,15,23]\n",
    "mae_lstm = mae_lstm[:, index]\n",
    "mae_re_lstm = mae_re_lstm[:, index]\n",
    "mae_ss_lstm = mae_ss_lstm[:, index]\n",
    "\n",
    "\n",
    "# mae_lstm = mae_lstm.permute(1, 0).reshape(-1)\n",
    "# mae_re_lstm = mae_re_lstm.permute(1, 0).reshape(-1)\n",
    "# mae_ss_lstm = mae_ss_lstm.permute(1, 0).reshape(-1)\n",
    "\n",
    "# horizon = (torch.tensor(index)+1).repeat_interleave(10).repeat(3)\n",
    "# mae = torch.cat([mae_lstm, mae_ss_lstm, mae_re_lstm])\n",
    "# method = ['LSTM', 'LSTM-SS', 'LSTM-EF']\n",
    "# methods = [m for m in method for i in range(len(mae_lstm))]\n",
    "# data = pd.DataFrame({'mae':mae,\n",
    "#               'methods':methods,\n",
    "#               'horizon':horizon\n",
    "#              }\n",
    "#             )"
   ]
  },
  {
   "cell_type": "code",
   "execution_count": 21,
   "id": "4b12867b",
   "metadata": {},
   "outputs": [],
   "source": [
    "mae1 = torch.stack([mae_lstm[:, 0], mae_ss_lstm[:, 0], mae_re_lstm[:, 0]], 0)\n",
    "mae2 = torch.stack([mae_lstm[:, 1], mae_ss_lstm[:, 1], mae_re_lstm[:, 1]], 0)\n",
    "mae3 = torch.stack([mae_lstm[:, 2], mae_ss_lstm[:, 2], mae_re_lstm[:, 2]], 0)\n",
    "mae4 = torch.stack([mae_lstm[:, 3], mae_ss_lstm[:, 3], mae_re_lstm[:, 3]], 0)\n",
    "mae_mean = torch.stack([mae_lstm_mean, mae_ss_lstm_mean, mae_re_lstm_mean], 0)"
   ]
  },
  {
   "cell_type": "code",
   "execution_count": 29,
   "id": "327d9898",
   "metadata": {},
   "outputs": [
    {
     "name": "stdout",
     "output_type": "stream",
     "text": [
      "前向1步：EF-SS TtestResult(statistic=0.643698712525516, pvalue=0.7349124728552654, df=14)\n",
      "前向1步：EF-OR TtestResult(statistic=3.304965163778109, pvalue=0.9973947230358952, df=14)\n",
      "前向1步：SS-OR TtestResult(statistic=0.7112641464142749, pvalue=0.7556986235761858, df=14)\n",
      "前向8步：EF-SS TtestResult(statistic=-2.5671753219901503, pvalue=0.011179791010527755, df=14)\n",
      "前向8步：EF-OR TtestResult(statistic=-3.9661157719416913, pvalue=0.0007032634290198193, df=14)\n",
      "前向8步：SS-OR TtestResult(statistic=-1.2595215714132617, pvalue=0.11421794439747886, df=14)\n",
      "前向16步：EF-SS TtestResult(statistic=-1.9712408308524714, pvalue=0.03439695184328857, df=14)\n",
      "前向16步：EF-OR TtestResult(statistic=-2.501456737561451, pvalue=0.012697544957106366, df=14)\n",
      "前向16步：SS-OR TtestResult(statistic=-1.3493025543428552, pvalue=0.09932890834355958, df=14)\n",
      "前向24步：EF-SS TtestResult(statistic=-2.338942142523265, pvalue=0.017343223095984826, df=14)\n",
      "前向24步：EF-OR TtestResult(statistic=-3.6647298799448365, pvalue=0.0012746699213022328, df=14)\n",
      "前向24步：SS-OR TtestResult(statistic=-1.2847962947557996, pvalue=0.10985735831624395, df=14)\n",
      "前向1-24步：EF-SS TtestResult(statistic=-2.2979211801495696, pvalue=0.01874888593030794, df=14)\n",
      "前向1-24步：EF-OR TtestResult(statistic=-3.0594221562858137, pvalue=0.004244779225807105, df=14)\n",
      "前向1-24步：SS-OR TtestResult(statistic=1.3768605078735865, pvalue=0.9049125985613631, df=14)\n"
     ]
    }
   ],
   "source": [
    "from scipy import stats\n",
    "\n",
    "print('前向1步：EF-SS', stats.ttest_1samp(mae1[2,:] - mae1[1,:], 0, alternative=\"less\"))\n",
    "print('前向1步：EF-OR', stats.ttest_1samp(mae1[2,:] - mae1[0,:], 0, alternative=\"less\"))\n",
    "print('前向1步：SS-OR', stats.ttest_1samp(mae1[1,:] - mae1[0,:], 0, alternative=\"less\"))\n",
    "\n",
    "print('前向8步：EF-SS', stats.ttest_1samp(mae2[2,:] - mae2[1,:], 0, alternative=\"less\"))\n",
    "print('前向8步：EF-OR', stats.ttest_1samp(mae2[2,:] - mae2[0,:], 0, alternative=\"less\"))\n",
    "print('前向8步：SS-OR', stats.ttest_1samp(mae2[0,:] - mae2[1,:], 0, alternative=\"less\"))\n",
    "\n",
    "print('前向16步：EF-SS', stats.ttest_1samp(mae3[2,:] - mae3[1,:], 0, alternative=\"less\"))\n",
    "print('前向16步：EF-OR', stats.ttest_1samp(mae3[2,:] - mae3[0,:], 0, alternative=\"less\"))\n",
    "print('前向16步：SS-OR', stats.ttest_1samp(mae3[0,:] - mae3[1,:], 0, alternative=\"less\"))\n",
    "\n",
    "print('前向24步：EF-SS', stats.ttest_1samp(mae4[2,:] - mae4[1,:], 0, alternative=\"less\"))\n",
    "print('前向24步：EF-OR', stats.ttest_1samp(mae4[2,:] - mae4[0,:], 0, alternative=\"less\"))\n",
    "print('前向24步：SS-OR', stats.ttest_1samp(mae4[0,:] - mae4[1,:], 0, alternative=\"less\"))\n",
    "\n",
    "print('前向1-24步：EF-SS', stats.ttest_1samp(mae_mean[2,:] - mae_mean[1,:], 0, alternative=\"less\"))\n",
    "print('前向1-24步：EF-OR', stats.ttest_1samp(mae_mean[2,:] - mae_mean[0,:], 0, alternative=\"less\"))\n",
    "print('前向1-24步：SS-OR', stats.ttest_1samp(mae_mean[1,:] - mae_mean[0,:], 0, alternative=\"less\"))"
   ]
  },
  {
   "cell_type": "code",
   "execution_count": 30,
   "id": "f519c634",
   "metadata": {},
   "outputs": [
    {
     "name": "stdout",
     "output_type": "stream",
     "text": [
      "前向1步：EF-SS TtestResult(statistic=0.6436987436211663, pvalue=0.5301750347060403, df=14)\n",
      "前向1步：EF-OR TtestResult(statistic=3.3049652315671856, pvalue=0.005210553225403322, df=14)\n",
      "前向1步：SS-OR TtestResult(statistic=-0.7112641334937807, pvalue=0.48860276060735486, df=14)\n",
      "前向8步：EF-SS TtestResult(statistic=36.98882376254614, pvalue=2.3015472831199995e-15, df=14)\n",
      "前向8步：EF-OR TtestResult(statistic=39.64566997563465, pvalue=8.790402916762265e-16, df=14)\n",
      "前向8步：SS-OR TtestResult(statistic=38.42605075899596, pvalue=1.3563341394047872e-15, df=14)\n",
      "前向16步：EF-SS TtestResult(statistic=39.51432546078257, pvalue=9.204874437865982e-16, df=14)\n",
      "前向16步：EF-OR TtestResult(statistic=36.113101275666374, pvalue=3.2083622269752753e-15, df=14)\n",
      "前向16步：SS-OR TtestResult(statistic=48.04099722656995, pvalue=6.084413846529058e-17, df=14)\n",
      "前向24步：EF-SS TtestResult(statistic=37.389981527550084, pvalue=1.9817548461889903e-15, df=14)\n",
      "前向24步：EF-OR TtestResult(statistic=34.144037075436295, pvalue=6.9757709499489946e-15, df=14)\n",
      "前向24步：SS-OR TtestResult(statistic=51.80386900157223, pvalue=2.1287421370574846e-17, df=14)\n",
      "前向1-24步：EF-SS TtestResult(statistic=-2.297921123425443, pvalue=0.037497775892816346, df=14)\n",
      "前向1-24步：EF-OR TtestResult(statistic=-3.059422154658937, pvalue=0.008489558479026866, df=14)\n",
      "前向1-24步：SS-OR TtestResult(statistic=-1.3768605318438971, pvalue=0.1901747956292658, df=14)\n"
     ]
    }
   ],
   "source": [
    "print('前向1步：EF-SS', stats.ttest_rel(mae1[2,:], mae1[1,:]))\n",
    "print('前向1步：EF-OR', stats.ttest_rel(mae1[2,:], mae1[0,:]))\n",
    "print('前向1步：SS-OR', stats.ttest_rel(mae1[0,:], mae1[1,:]))\n",
    "\n",
    "print('前向8步：EF-SS', stats.ttest_rel(mae2[2,:], mae1[1,:]))\n",
    "print('前向8步：EF-OR', stats.ttest_rel(mae2[2,:], mae1[0,:]))\n",
    "print('前向8步：SS-OR', stats.ttest_rel(mae2[0,:], mae1[1,:]))\n",
    "\n",
    "print('前向16步：EF-SS', stats.ttest_rel(mae3[2,:], mae1[1,:]))\n",
    "print('前向16步：EF-OR', stats.ttest_rel(mae3[2,:], mae1[0,:]))\n",
    "print('前向16步：SS-OR', stats.ttest_rel(mae3[0,:], mae1[1,:]))\n",
    "\n",
    "print('前向24步：EF-SS', stats.ttest_rel(mae4[2,:], mae1[1,:]))\n",
    "print('前向24步：EF-OR', stats.ttest_rel(mae4[2,:], mae1[0,:]))\n",
    "print('前向24步：SS-OR', stats.ttest_rel(mae4[0,:], mae1[1,:]))\n",
    "\n",
    "print('前向1-24步：EF-SS', stats.ttest_rel(mae_mean[2,:], mae_mean[1,:]))\n",
    "print('前向1-24步：EF-OR', stats.ttest_rel(mae_mean[2,:], mae_mean[0,:]))\n",
    "print('前向1-24步：SS-OR', stats.ttest_rel(mae_mean[0,:], mae_mean[1,:]))"
   ]
  },
  {
   "cell_type": "markdown",
   "id": "7158e86b",
   "metadata": {},
   "source": [
    "### r-risk检验"
   ]
  },
  {
   "cell_type": "code",
   "execution_count": 34,
   "id": "b7d6623e",
   "metadata": {},
   "outputs": [],
   "source": [
    "mae_lstm = []\n",
    "mae_re_lstm = []\n",
    "mae_ss_lstm = []\n",
    "for seed in range(100):\n",
    "    try:\n",
    "        mae_lstm.append(torch.load(f\"loss/qloss_deepar_seed{seed}.pt\"))\n",
    "        mae_re_lstm.append(torch.load(f\"loss/qloss_deepar_re_seed{seed}.pt\"))\n",
    "        mae_ss_lstm.append(torch.load(f\"loss/qloss_deepar_ss_seed{seed}.pt\"))\n",
    "    except:\n",
    "        pass\n",
    "decoder_len = 24\n",
    "mae_lstm = torch.cat(mae_lstm).reshape(-1, decoder_len)\n",
    "mae_re_lstm = torch.cat(mae_re_lstm).reshape(-1, decoder_len)\n",
    "mae_ss_lstm = torch.cat(mae_ss_lstm).reshape(-1, decoder_len)\n",
    "\n",
    "mae_lstm_mean = mae_lstm.mean(-1)\n",
    "mae_re_lstm_mean = mae_re_lstm.mean(-1)\n",
    "mae_ss_lstm_mean = mae_ss_lstm.mean(-1)\n",
    "\n",
    "index = [0,7,15,23]\n",
    "mae_lstm = mae_lstm[:, index]\n",
    "mae_re_lstm = mae_re_lstm[:, index]\n",
    "mae_ss_lstm = mae_ss_lstm[:, index]\n",
    "\n",
    "\n",
    "# mae_lstm = mae_lstm.permute(1, 0).reshape(-1)\n",
    "# mae_re_lstm = mae_re_lstm.permute(1, 0).reshape(-1)\n",
    "# mae_ss_lstm = mae_ss_lstm.permute(1, 0).reshape(-1)\n",
    "\n",
    "# horizon = (torch.tensor(index)+1).repeat_interleave(10).repeat(3)\n",
    "# mae = torch.cat([mae_lstm, mae_ss_lstm, mae_re_lstm])\n",
    "# method = ['LSTM', 'LSTM-SS', 'LSTM-EF']\n",
    "# methods = [m for m in method for i in range(len(mae_lstm))]\n",
    "# data = pd.DataFrame({'mae':mae,\n",
    "#               'methods':methods,\n",
    "#               'horizon':horizon\n",
    "#              }\n",
    "#             )\n",
    "\n",
    "mae1 = torch.stack([mae_lstm[:, 0], mae_ss_lstm[:, 0], mae_re_lstm[:, 0]], 0)\n",
    "mae2 = torch.stack([mae_lstm[:, 1], mae_ss_lstm[:, 1], mae_re_lstm[:, 1]], 0)\n",
    "mae3 = torch.stack([mae_lstm[:, 2], mae_ss_lstm[:, 2], mae_re_lstm[:, 2]], 0)\n",
    "mae4 = torch.stack([mae_lstm[:, 3], mae_ss_lstm[:, 3], mae_re_lstm[:, 3]], 0)\n",
    "mae_mean = torch.stack([mae_lstm_mean, mae_ss_lstm_mean, mae_re_lstm_mean], 0)"
   ]
  },
  {
   "cell_type": "code",
   "execution_count": 39,
   "id": "94841c24",
   "metadata": {},
   "outputs": [
    {
     "data": {
      "text/plain": [
       "tensor([-35.4992,  -1.5562,  -2.8683,  -4.2531, -14.3385,  -8.9962, -40.0735,\n",
       "        -16.2217,   6.7260, -23.3049,  -5.5773,  -1.3203,  -6.7727, -11.8783,\n",
       "        -16.0975])"
      ]
     },
     "execution_count": 39,
     "metadata": {},
     "output_type": "execute_result"
    }
   ],
   "source": [
    "mae4[2,:] - mae4[0,:] "
   ]
  },
  {
   "cell_type": "code",
   "execution_count": 32,
   "id": "9e4c8bb3",
   "metadata": {},
   "outputs": [
    {
     "name": "stdout",
     "output_type": "stream",
     "text": [
      "前向1步：EF-SS TtestResult(statistic=-0.643698712525516, pvalue=0.26508752714473455, df=14)\n",
      "前向1步：EF-OR TtestResult(statistic=-3.304965163778109, pvalue=0.002605276964104906, df=14)\n",
      "前向1步：SS-OR TtestResult(statistic=-0.7112641464142749, pvalue=0.24430137642381428, df=14)\n",
      "前向8步：EF-SS TtestResult(statistic=-2.5671753219901503, pvalue=0.011179791010527755, df=14)\n",
      "前向8步：EF-OR TtestResult(statistic=-3.9661157719416913, pvalue=0.0007032634290198193, df=14)\n",
      "前向8步：SS-OR TtestResult(statistic=1.2595215714132617, pvalue=0.8857820556025212, df=14)\n",
      "前向16步：EF-SS TtestResult(statistic=-1.9712408308524714, pvalue=0.03439695184328857, df=14)\n",
      "前向16步：EF-OR TtestResult(statistic=-2.501456737561451, pvalue=0.012697544957106366, df=14)\n",
      "前向16步：SS-OR TtestResult(statistic=1.3493025543428552, pvalue=0.9006710916564404, df=14)\n",
      "前向24步：EF-SS TtestResult(statistic=-2.338942142523265, pvalue=0.017343223095984826, df=14)\n",
      "前向24步：EF-OR TtestResult(statistic=-3.6647298799448365, pvalue=0.0012746699213022328, df=14)\n",
      "前向24步：SS-OR TtestResult(statistic=1.2847962947557996, pvalue=0.8901426416837561, df=14)\n",
      "前向1-24步：EF-SS TtestResult(statistic=-2.2979211801495696, pvalue=0.01874888593030794, df=14)\n",
      "前向1-24步：EF-OR TtestResult(statistic=-3.0594221562858137, pvalue=0.004244779225807105, df=14)\n",
      "前向1-24步：SS-OR TtestResult(statistic=-1.3768605078735865, pvalue=0.09508740143863692, df=14)\n"
     ]
    }
   ],
   "source": [
    "from scipy import stats\n",
    "\n",
    "print('前向1步：EF-SS', stats.ttest_1samp(mae1[1,:] - mae1[2,:], 0, alternative=\"less\"))\n",
    "print('前向1步：EF-OR', stats.ttest_1samp(mae1[0,:] - mae1[2,:], 0, alternative=\"less\"))\n",
    "print('前向1步：SS-OR', stats.ttest_1samp(mae1[0,:] - mae1[1,:], 0, alternative=\"less\"))\n",
    "\n",
    "print('前向8步：EF-SS', stats.ttest_1samp(mae2[2,:] - mae2[1,:], 0, alternative=\"less\"))\n",
    "print('前向8步：EF-OR', stats.ttest_1samp(mae2[2,:] - mae2[0,:], 0, alternative=\"less\"))\n",
    "print('前向8步：SS-OR', stats.ttest_1samp(mae2[1,:] - mae2[0,:], 0, alternative=\"less\"))\n",
    "\n",
    "print('前向16步：EF-SS', stats.ttest_1samp(mae3[2,:] - mae3[1,:], 0, alternative=\"less\"))\n",
    "print('前向16步：EF-OR', stats.ttest_1samp(mae3[2,:] - mae3[0,:], 0, alternative=\"less\"))\n",
    "print('前向16步：SS-OR', stats.ttest_1samp(mae3[1,:] - mae3[0,:], 0, alternative=\"less\"))\n",
    "\n",
    "print('前向24步：EF-SS', stats.ttest_1samp(mae4[2,:] - mae4[1,:], 0, alternative=\"less\"))\n",
    "print('前向24步：EF-OR', stats.ttest_1samp(mae4[2,:] - mae4[0,:], 0, alternative=\"less\"))\n",
    "print('前向24步：SS-OR', stats.ttest_1samp(mae4[1,:] - mae4[0,:], 0, alternative=\"less\"))\n",
    "\n",
    "print('前向1-24步：EF-SS', stats.ttest_1samp(mae_mean[2,:] - mae_mean[1,:], 0, alternative=\"less\"))\n",
    "print('前向1-24步：EF-OR', stats.ttest_1samp(mae_mean[2,:] - mae_mean[0,:], 0, alternative=\"less\"))\n",
    "print('前向1-24步：SS-OR', stats.ttest_1samp(mae_mean[0,:] - mae_mean[1,:], 0, alternative=\"less\"))"
   ]
  },
  {
   "cell_type": "code",
   "execution_count": 33,
   "id": "ba8e087b",
   "metadata": {},
   "outputs": [
    {
     "name": "stdout",
     "output_type": "stream",
     "text": [
      "前向1步：EF-SS TtestResult(statistic=0.6436987436211663, pvalue=0.5301750347060403, df=14)\n",
      "前向1步：EF-OR TtestResult(statistic=3.3049652315671856, pvalue=0.005210553225403322, df=14)\n",
      "前向1步：SS-OR TtestResult(statistic=-0.7112641334937807, pvalue=0.48860276060735486, df=14)\n",
      "前向8步：EF-SS TtestResult(statistic=36.98882376254614, pvalue=2.3015472831199995e-15, df=14)\n",
      "前向8步：EF-OR TtestResult(statistic=39.64566997563465, pvalue=8.790402916762265e-16, df=14)\n",
      "前向8步：SS-OR TtestResult(statistic=38.42605075899596, pvalue=1.3563341394047872e-15, df=14)\n",
      "前向16步：EF-SS TtestResult(statistic=39.51432546078257, pvalue=9.204874437865982e-16, df=14)\n",
      "前向16步：EF-OR TtestResult(statistic=36.113101275666374, pvalue=3.2083622269752753e-15, df=14)\n",
      "前向16步：SS-OR TtestResult(statistic=48.04099722656995, pvalue=6.084413846529058e-17, df=14)\n",
      "前向24步：EF-SS TtestResult(statistic=37.389981527550084, pvalue=1.9817548461889903e-15, df=14)\n",
      "前向24步：EF-OR TtestResult(statistic=34.144037075436295, pvalue=6.9757709499489946e-15, df=14)\n",
      "前向24步：SS-OR TtestResult(statistic=51.80386900157223, pvalue=2.1287421370574846e-17, df=14)\n",
      "前向1-24步：EF-SS TtestResult(statistic=-2.297921123425443, pvalue=0.037497775892816346, df=14)\n",
      "前向1-24步：EF-OR TtestResult(statistic=-3.059422154658937, pvalue=0.008489558479026866, df=14)\n",
      "前向1-24步：SS-OR TtestResult(statistic=-1.3768605318438971, pvalue=0.1901747956292658, df=14)\n"
     ]
    }
   ],
   "source": [
    "print('前向1步：EF-SS', stats.ttest_rel(mae1[2,:], mae1[1,:]))\n",
    "print('前向1步：EF-OR', stats.ttest_rel(mae1[2,:], mae1[0,:]))\n",
    "print('前向1步：SS-OR', stats.ttest_rel(mae1[0,:], mae1[1,:]))\n",
    "\n",
    "print('前向8步：EF-SS', stats.ttest_rel(mae2[2,:], mae1[1,:]))\n",
    "print('前向8步：EF-OR', stats.ttest_rel(mae2[2,:], mae1[0,:]))\n",
    "print('前向8步：SS-OR', stats.ttest_rel(mae2[0,:], mae1[1,:]))\n",
    "\n",
    "print('前向16步：EF-SS', stats.ttest_rel(mae3[2,:], mae1[1,:]))\n",
    "print('前向16步：EF-OR', stats.ttest_rel(mae3[2,:], mae1[0,:]))\n",
    "print('前向16步：SS-OR', stats.ttest_rel(mae3[0,:], mae1[1,:]))\n",
    "\n",
    "print('前向24步：EF-SS', stats.ttest_rel(mae4[2,:], mae1[1,:]))\n",
    "print('前向24步：EF-OR', stats.ttest_rel(mae4[2,:], mae1[0,:]))\n",
    "print('前向24步：SS-OR', stats.ttest_rel(mae4[0,:], mae1[1,:]))\n",
    "\n",
    "print('前向1-24步：EF-SS', stats.ttest_rel(mae_mean[2,:], mae_mean[1,:]))\n",
    "print('前向1-24步：EF-OR', stats.ttest_rel(mae_mean[2,:], mae_mean[0,:]))\n",
    "print('前向1-24步：SS-OR', stats.ttest_rel(mae_mean[0,:], mae_mean[1,:]))"
   ]
  },
  {
   "cell_type": "markdown",
   "id": "3df02f7a",
   "metadata": {},
   "source": [
    "### 独立t检验"
   ]
  },
  {
   "cell_type": "code",
   "execution_count": 260,
   "id": "44bea90d",
   "metadata": {},
   "outputs": [
    {
     "name": "stdout",
     "output_type": "stream",
     "text": [
      "样本均值: 1111.35\n",
      "480.43410318169543\n",
      "-0.8043067483882222\n",
      "statistic: -0.8043067483882222\n",
      "pvalue: 0.43116914845890564\n"
     ]
    }
   ],
   "source": [
    "from scipy import stats\n",
    "from scipy import stats\n",
    "import numpy as np\n",
    " \n",
    "#单样本t检验\n",
    "sample=[809, 1250, 689, 1541, 995, 1234, 1024, 920, 777, 2510,\n",
    "        2301, 540, 850, 895, 1024, 1000, 1025, 863, 875, 1105]\n",
    "sample = np.asarray(sample)\n",
    "m = np.mean(sample)\n",
    "std = np.std(sample, ddof=1)\n",
    "print(\"样本均值:\",m)\n",
    "print(np.std(sample))\n",
    "print((m - 1200)/(std/np.sqrt(len(sample))))\n",
    "      \n",
    "r = stats.ttest_1samp(sample, 1200, axis=0)\n",
    "print(\"statistic:\", r.__getattribute__(\"statistic\"))\n",
    "print(\"pvalue:\", r.__getattribute__(\"pvalue\"))"
   ]
  },
  {
   "cell_type": "code",
   "execution_count": 242,
   "id": "4f69cccc",
   "metadata": {},
   "outputs": [
    {
     "data": {
      "text/plain": [
       "[Text(0.5, 0, 'Horizon 1'), Text(0, 0.5, 'MAE')]"
      ]
     },
     "execution_count": 242,
     "metadata": {},
     "output_type": "execute_result"
    },
    {
     "data": {
      "image/png": "[encoded data removed]",
      "text/plain": [
       "<Figure size 533.333x426.667 with 1 Axes>"
      ]
     },
     "metadata": {},
     "output_type": "display_data"
    }
   ],
   "source": [
    "config = {\n",
    "\"font.family\":'serif',  \n",
    "\"font.size\": 10,       #14 放大是16\n",
    "\"mathtext.fontset\":'stix',\n",
    "\"xtick.direction\":\"in\",\n",
    "\"ytick.direction\":\"in\",\n",
    "\"xtick.major.size\": 3,\n",
    "\"ytick.major.size\": 3,\n",
    "#\"font.serif\": ['SimSun'],\n",
    "\"font.family\":\"times new roman\",\n",
    "}\n",
    "rcParams.update(config)\n",
    "fig, ax = plt.subplots(dpi=160, figsize=(5/1.5, 4/1.5))   \n",
    "ax.boxplot(x=mae1, whis=1.5, widths=0.4)\n",
    "\n",
    "sns.stripplot(x='maex', y='mae1',data=data, hue='maex', palette=sns.color_palette(\"muted\")[0:3],\n",
    "             alpha=.5, zorder=4, legend=False, ax=ax)\n",
    "\n",
    "# ax.axes.xaxis.set_ticklabels([])\n",
    "ax.set(xlabel=\"Horizon 1\", ylabel=\"MAE\")\n"
   ]
  },
  {
   "cell_type": "markdown",
   "id": "41c33a3d",
   "metadata": {},
   "source": [
    "## Seaborn 绘制箱线图"
   ]
  },
  {
   "cell_type": "code",
   "execution_count": 162,
   "id": "2b40cf02",
   "metadata": {},
   "outputs": [
    {
     "data": {
      "text/plain": [
       "<matplotlib.legend.Legend at 0x25692c28940>"
      ]
     },
     "execution_count": 162,
     "metadata": {},
     "output_type": "execute_result"
    },
    {
     "data": {
      "image/png": "[encoded data removed]",
      "text/plain": [
       "<Figure size 360x288 with 1 Axes>"
      ]
     },
     "metadata": {},
     "output_type": "display_data"
    }
   ],
   "source": [
    "import seaborn as sns\n",
    "import pandas as pd\n",
    "import numpy as np\n",
    "import matplotlib.pyplot as plt\n",
    "from matplotlib import rcParams\n",
    "\n",
    "\n",
    "config = {\n",
    "\"mathtext.fontset\":'stix',\n",
    "\"xtick.direction\":\"in\",\n",
    "\"xtick.major.size\": 6,\n",
    "\"ytick.direction\":\"in\",\n",
    "\"ytick.major.size\": 6,\n",
    "'legend.frameon':False,\n",
    "\"font.family\":\"times new roman\",\n",
    "}\n",
    "\n",
    "# Apply the default theme\n",
    "sns.set_theme(context='notebook', style=\"ticks\", palette=sns.color_palette(\"muted\"), font_scale=1.4, rc=config)\n",
    "\n",
    "\n",
    "g = sns.boxplot(\n",
    "    x='horizon', y='mae', data=data[data['horizon']==1],\n",
    "    hue='methods',\n",
    "    saturation=0.8,\n",
    "    width=0.4,\n",
    "    linewidth=1.5\n",
    "\n",
    ")\n",
    "scale = 0.6\n",
    "g.figure.set_size_inches(5*scale,4*scale)\n",
    "g.figure.dpi = 120\n",
    "sns.despine(top=False, right=False, left=False, bottom=False)\n",
    "g.axes.xaxis.set_ticklabels([])\n",
    "g.set(xlabel=\"Horizon 1\", ylabel=\"MAE\")\n",
    "g.legend(frameon=False, fontsize = 10, bbox_to_anchor=(1.001, 1.02))"
   ]
  },
  {
   "cell_type": "code",
   "execution_count": null,
   "id": "3b72dbc2",
   "metadata": {},
   "outputs": [],
   "source": []
  },
  {
   "cell_type": "code",
   "execution_count": null,
   "id": "55acb7be",
   "metadata": {},
   "outputs": [],
   "source": []
  },
  {
   "cell_type": "code",
   "execution_count": null,
   "id": "8298e0e1",
   "metadata": {},
   "outputs": [],
   "source": []
  },
  {
   "cell_type": "code",
   "execution_count": null,
   "id": "950351d2",
   "metadata": {},
   "outputs": [],
   "source": []
  },
  {
   "cell_type": "code",
   "execution_count": 7,
   "id": "2beb1d84",
   "metadata": {},
   "outputs": [],
   "source": [
    "import seaborn as sns\n",
    "import matplotlib.pyplot as plt\n",
    "%matplotlib inline\n",
    "titanic=sns.load_dataset('titanic')"
   ]
  },
  {
   "cell_type": "code",
   "execution_count": 10,
   "id": "ebd61fc8",
   "metadata": {},
   "outputs": [
    {
     "data": {
      "text/plain": [
       "<seaborn.axisgrid.FacetGrid at 0x21d8eb70ee0>"
      ]
     },
     "execution_count": 10,
     "metadata": {},
     "output_type": "execute_result"
    },
    {
     "data": {
      "image/png": "[encoded data removed]",
      "text/plain": [
       "<Figure size 500x500 with 1 Axes>"
      ]
     },
     "metadata": {},
     "output_type": "display_data"
    }
   ],
   "source": [
    "#去除'age'中的缺失值，distplot不能处理缺失数据\n",
    "age1=titanic['age'].dropna()\n",
    "sns.displot(age1, kde=True)"
   ]
  },
  {
   "cell_type": "code",
   "execution_count": 18,
   "id": "67de37ae",
   "metadata": {},
   "outputs": [
    {
     "data": {
      "text/plain": [
       "<Axes: xlabel='class', ylabel='age'>"
      ]
     },
     "execution_count": 18,
     "metadata": {},
     "output_type": "execute_result"
    },
    {
     "data": {
      "image/png": "[encoded data removed]",
      "text/plain": [
       "<Figure size 640x480 with 1 Axes>"
      ]
     },
     "metadata": {},
     "output_type": "display_data"
    }
   ],
   "source": [
    "from matplotlib import rcParams\n",
    "\n",
    "config = {\n",
    "\"font.family\":'serif',  \n",
    "\"font.size\": 12,       #14 放大是16\n",
    "\"mathtext.fontset\":'stix',\n",
    "\"xtick.direction\":\"in\",\n",
    "\"ytick.direction\":\"in\",\n",
    "\"font.serif\": ['SimSun'],\n",
    "\"font.family\":\"times new roman\",\n",
    "}\n",
    "rcParams.update(config)\n",
    "\n",
    "sns.boxplot(x='class',y='age',hue='who',data=titanic)"
   ]
  },
  {
   "cell_type": "code",
   "execution_count": null,
   "id": "c66f9edb",
   "metadata": {},
   "outputs": [],
   "source": []
  },
  {
   "cell_type": "code",
   "execution_count": null,
   "id": "356db2a7",
   "metadata": {},
   "outputs": [],
   "source": [
    "import matplotlib.pyplot as plt\n",
    "from matplotlib import rcPara\n",
    "\n",
    "config = {\n",
    "\"font.family\":'serif',  \n",
    "\"font.size\": 12,       #14 放大是16\n",
    "\"mathtext.fontset\":'stix',\n",
    "\"xtick.direction\":\"in\",\n",
    "\"ytick.direction\":\"in\",\n",
    "\"font.serif\": ['SimSun'],\n",
    "\"font.family\":\"times new roman\",\n",
    "}\n",
    "rcParams.update(config)\n",
    "color_list = plt.cm.tab10(np.linspace(0, 1, 12))"
   ]
  }
 ],
 "metadata": {
  "kernelspec": {
   "display_name": "torch44",
   "language": "python",
   "name": "torch44"
  },
  "language_info": {
   "codemirror_mode": {
    "name": "ipython",
    "version": 3
   },
   "file_extension": ".py",
   "mimetype": "text/x-python",
   "name": "python",
   "nbconvert_exporter": "python",
   "pygments_lexer": "ipython3",
   "version": "3.8.0"
  }
 },
 "nbformat": 4,
 "nbformat_minor": 5
}
