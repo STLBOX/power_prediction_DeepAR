{
 "cells": [
  {
   "cell_type": "markdown",
   "id": "65e0aca0",
   "metadata": {},
   "source": [
    "### 数据预处理"
   ]
  },
  {
   "cell_type": "code",
   "execution_count": 88,
   "id": "cd3574f6",
   "metadata": {},
   "outputs": [],
   "source": [
    "import pandas as pd\n",
    "import numpy as np\n",
    "import matplotlib.pyplot as plt\n",
    "from matplotlib import rcParams"
   ]
  },
  {
   "cell_type": "code",
   "execution_count": 165,
   "id": "d4c4383b",
   "metadata": {},
   "outputs": [
    {
     "name": "stdout",
     "output_type": "stream",
     "text": [
      "(8662, 11)\n",
      "8662\n"
     ]
    }
   ],
   "source": [
    "load = pd.read_csv('data/load_del.csv')\n",
    "weather = pd.read_csv('data/weather_del.csv')\n",
    "# 数据解析\n",
    "# 时间数据\n",
    "month = load['Month'].to_numpy()  # 第几个月 1-12\n",
    "day = load['Day'].to_numpy()  # 某月第几天 1-31\n",
    "week = load['DOW/星期'].to_numpy()  # 某月第几天 1-7\n",
    "hour = load['Hour'].to_numpy()  # 0-23\n",
    "elc = load['KW/电负荷'].to_numpy()  # 电负荷\n",
    "hot = load['HTmmBTU/热负荷'].to_numpy()  # 负荷\n",
    "cold = load['CHWTON/冷负荷'].to_numpy()  \n",
    "# 天气数据\n",
    "env = weather.iloc[:,4:].to_numpy()\n",
    "print(env.shape)\n",
    "print(len(elc))\n",
    "#电负荷异常处理\n",
    "# 删除11月4-8号缺失值较多的数据段\n",
    "# 值在异常范围外的，前后均值插值\n",
    "err = (elc > 45000) | (elc < 5000)\n",
    "for i,e in enumerate(err):\n",
    "    if e:\n",
    "        elc[i] = (elc[i-1]+elc[i+1])/2\n",
    "        \n",
    "# 计算前后差值, 直接保持前一个值\n",
    "one_sub = elc[1:] - elc[:-1]        \n",
    "err = (one_sub > 10000) | (one_sub < -10000)\n",
    "for i,e in enumerate(err):\n",
    "    if e:\n",
    "        elc[i+1] = elc[i]"
   ]
  },
  {
   "cell_type": "code",
   "execution_count": null,
   "id": "16c43ecc",
   "metadata": {},
   "outputs": [],
   "source": []
  },
  {
   "cell_type": "code",
   "execution_count": null,
   "id": "6f274879",
   "metadata": {},
   "outputs": [],
   "source": [
    "load\n",
    "load.to_excel(r\"load_sel.xlsx\", index=False)"
   ]
  },
  {
   "cell_type": "code",
   "execution_count": 174,
   "id": "86eed4e8",
   "metadata": {},
   "outputs": [
    {
     "ename": "SyntaxError",
     "evalue": "unexpected EOF while parsing (360853406.py, line 9)",
     "output_type": "error",
     "traceback": [
      "\u001b[1;36m  Cell \u001b[1;32mIn[174], line 9\u001b[1;36m\u001b[0m\n\u001b[1;33m    count = 0\u001b[0m\n\u001b[1;37m             ^\u001b[0m\n\u001b[1;31mSyntaxError\u001b[0m\u001b[1;31m:\u001b[0m unexpected EOF while parsing\n"
     ]
    }
   ],
   "source": [
    "load = pd.read_csv('data/load.csv')\n",
    "load['time_index'] = np.zeros(len(load))\n",
    "count = 0\n",
    "for i in range(len(load)):\n",
    "    load['time_index'][i] = count\n",
    "    count += 1\n",
    "    try:\n",
    "        if load['Month'][i+1] != load['Month'][i]:\n",
    "            count = 0"
   ]
  },
  {
   "cell_type": "code",
   "execution_count": 177,
   "id": "af95ff55",
   "metadata": {},
   "outputs": [],
   "source": [
    "load.to_csv(r\"data/load.csv\", index=False)"
   ]
  },
  {
   "cell_type": "markdown",
   "id": "5c836f2f",
   "metadata": {},
   "source": [
    "### 数据总结\n",
    "month day week hour 为离散数值   其余都为连续数值 \\\n",
    "day数据用于划分train\\val\\test  \\\n",
    "month week hour 放入input\n",
    "elc 和 env 放入input"
   ]
  },
  {
   "cell_type": "code",
   "execution_count": 151,
   "id": "5708717b",
   "metadata": {},
   "outputs": [
    {
     "data": {
      "text/plain": [
       "[<matplotlib.lines.Line2D at 0x1d2a9abc640>]"
      ]
     },
     "execution_count": 151,
     "metadata": {},
     "output_type": "execute_result"
    },
    {
     "data": {
      "image/png": "[encoded data removed]",
      "text/plain": [
       "<Figure size 640x480 with 1 Axes>"
      ]
     },
     "metadata": {},
     "output_type": "display_data"
    }
   ],
   "source": [
    "### embedding方法\n",
    "# number_of_categories**0.25\n",
    "plt.plot(env[:,3])"
   ]
  }
 ],
 "metadata": {
  "kernelspec": {
   "display_name": "torch44",
   "language": "python",
   "name": "torch44"
  },
  "language_info": {
   "codemirror_mode": {
    "name": "ipython",
    "version": 3
   },
   "file_extension": ".py",
   "mimetype": "text/x-python",
   "name": "python",
   "nbconvert_exporter": "python",
   "pygments_lexer": "ipython3",
   "version": "3.8.0"
  }
 },
 "nbformat": 4,
 "nbformat_minor": 5
}
